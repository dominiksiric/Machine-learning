{
 "cells": [
  {
   "cell_type": "code",
   "execution_count": 1,
   "id": "d8f57af3-0fcc-47a3-b2a2-aa52ba7e49b3",
   "metadata": {},
   "outputs": [],
   "source": [
    "from sklearn.metrics import *\n",
    "from sklearn.decomposition import PCA\n",
    "from scipy.cluster.hierarchy import dendrogram, linkage\n",
    "from scipy.stats import pearsonr\n",
    "import matplotlib.pyplot as plt\n",
    "import seaborn as sns\n",
    "import os\n",
    "import glob\n",
    "import numpy as np\n",
    "import warnings\n",
    "import pandas as pd"
   ]
  },
  {
   "cell_type": "code",
   "execution_count": 3,
   "id": "da11ec74-eca7-4d21-98bc-6d773ed1450e",
   "metadata": {},
   "outputs": [],
   "source": [
    "files = ['comcuc', 'cowpig1', 'eucdov', 'eueowl1', 'grswoo', 'tawowl1']\n",
    "for file in files:\n",
    "    # Find all the .npy files in the directory for this file\n",
    "    file_path = f\"./{file}/\"\n",
    "    npy_files = [f for f in os.listdir(file_path) if f.endswith('.npy') and not f.endswith('.labels.npy')]\n",
    "    \n",
    "    # Load all the .npy files and concatenate them into a single array\n",
    "    combined_array = np.concatenate([np.load(file_path + f) for f in npy_files], axis=0)\n",
    "    \n",
    "    # Save the combined array to a new .npy file with the same name as the directory\n",
    "    np.save(f\"./{file}.npy\", combined_array)"
   ]
  },
  {
   "cell_type": "code",
   "execution_count": 4,
   "id": "30f14c5f-d1ca-4059-a571-4a5c6d3be304",
   "metadata": {},
   "outputs": [
    {
     "name": "stdout",
     "output_type": "stream",
     "text": [
      "[[6.0702730e-02 2.4602273e-02 2.8891729e+03 ... 3.0834017e+00\n",
      "  2.5547047e+00 2.1070662e+00]\n",
      " [1.2225883e-01 2.2761168e-02 1.1199287e+03 ... 2.7688673e+00\n",
      "  2.1740642e+00 1.8281840e+00]\n",
      " [1.2542319e-01 2.6298169e-02 1.1900988e+03 ... 2.8172343e+00\n",
      "  2.2098179e+00 1.7782594e+00]\n",
      " [9.5825233e-02 1.4358594e-02 1.7134257e+03 ... 2.7726290e+00\n",
      "  1.9657502e+00 1.2492429e+00]\n",
      " [2.1247388e-01 3.1567492e-02 1.7008270e+03 ... 2.8132713e+00\n",
      "  2.1981423e+00 1.9585291e+00]\n",
      " [1.6502920e-01 2.0176120e-02 1.9709248e+03 ... 2.9978886e+00\n",
      "  2.2140536e+00 1.5042468e+00]]\n"
     ]
    }
   ],
   "source": [
    "comcuc = np.load('comcuc.npy')\n",
    "cowpig1 = np.load('cowpig1.npy')\n",
    "eucdov = np.load('eucdov.npy')\n",
    "eueowl1 = np.load('eueowl1.npy')\n",
    "grswoo = np.load('grswoo.npy')\n",
    "tawowl1 = np.load('tawowl1.npy')\n",
    "mean_comcuc = np.mean(comcuc, axis=0)\n",
    "mean_cowpig1 = np.mean(cowpig1, axis=0)\n",
    "mean_eucdov = np.mean(eucdov, axis=0)\n",
    "mean_eueowl1 = np.mean(eueowl1, axis=0)\n",
    "mean_grswoo = np.mean(grswoo, axis=0)\n",
    "mean_tawowl1 = np.mean(tawowl1, axis=0)\n",
    "\n",
    "combined_means = np.vstack((mean_comcuc, mean_cowpig1, mean_eucdov, mean_eueowl1, mean_grswoo, mean_tawowl1))\n",
    "print(combined_means)"
   ]
  },
  {
   "cell_type": "code",
   "execution_count": null,
   "id": "86d2482d-64b7-451f-ac8d-7b9e96323aaa",
   "metadata": {},
   "outputs": [],
   "source": []
  },
  {
   "cell_type": "code",
   "execution_count": 5,
   "id": "1eeee8a1-104e-4d93-a6b8-d493a163b9b0",
   "metadata": {},
   "outputs": [
    {
     "data": {
      "image/png": "[encoded data removed]",
      "text/plain": [
       "<Figure size 432x288 with 1 Axes>"
      ]
     },
     "metadata": {
      "needs_background": "light"
     },
     "output_type": "display_data"
    }
   ],
   "source": [
    "# ZCR mean and std\n",
    "labels = ['comcuc', 'cowpig1', 'eucdov', 'eueowl1', 'grswoo', 'tawowl1']\n",
    "zcr_mean = combined_means[:, 0]\n",
    "zcr_std = combined_means[:, 1]\n",
    "# Combine selected columns into a new array\n",
    "new_array = np.column_stack((zcr_mean, zcr_std))\n",
    "\n",
    "plt.scatter(zcr_mean, zcr_std)\n",
    "for i, label in enumerate(labels):\n",
    "    plt.annotate(label, (zcr_mean[i], zcr_std[i]))\n",
    "plt.xlabel('ZCR mean')\n",
    "plt.ylabel('ZCR std')\n",
    "plt.title('ZCR_mean and ZCR_std for each species')\n",
    "plt.show()"
   ]
  },
  {
   "cell_type": "code",
   "execution_count": 6,
   "id": "4e51b197-ea29-43b3-bea9-8576e4c22752",
   "metadata": {},
   "outputs": [
    {
     "name": "stdout",
     "output_type": "stream",
     "text": [
      "[2876.277  1099.9979 1181.0654 1686.545  1686.2654 1947.3365]\n"
     ]
    },
    {
     "data": {
      "image/png": "[encoded data removed]",
      "text/plain": [
       "<Figure size 432x288 with 1 Axes>"
      ]
     },
     "metadata": {
      "needs_background": "light"
     },
     "output_type": "display_data"
    }
   ],
   "source": [
    "labels = ['comcuc', 'cowpig1', 'eucdov', 'eueowl1', 'grswoo', 'tawowl1']\n",
    "selected_cols = combined_means[:, 2:16]\n",
    "row_means = selected_cols.mean(axis=1)\n",
    "print(row_means)\n",
    "plt.bar(labels, row_means)\n",
    "plt.xlabel('Species')\n",
    "plt.ylabel('Mean value of YIN')\n",
    "plt.title('Histogram of YIN values')\n",
    "plt.show()"
   ]
  },
  {
   "cell_type": "code",
   "execution_count": null,
   "id": "7bc62305-8d5c-4b34-868d-545e42cfaf72",
   "metadata": {},
   "outputs": [],
   "source": []
  },
  {
   "cell_type": "code",
   "execution_count": 9,
   "id": "0cb2433f-cb05-4ef5-b95b-ba2b6f951d7b",
   "metadata": {},
   "outputs": [
    {
     "name": "stdout",
     "output_type": "stream",
     "text": [
      "Features 530 and 531 have correlation 0.9999999990956917\n",
      "Features 4 and 15 have correlation 0.99998484557768\n",
      "Features 526 and 528 have correlation 0.9999848364243397\n",
      "Features 6 and 7 have correlation 0.9999839406345256\n",
      "Features 526 and 527 have correlation 0.9999711075064647\n",
      "Features 527 and 528 have correlation 0.9999693117496316\n",
      "Features 527 and 529 have correlation 0.9999664865151316\n",
      "Features 4 and 12 have correlation 0.9999613994746271\n",
      "Features 5 and 7 have correlation 0.9999604647967137\n",
      "Features 2 and 11 have correlation 0.9999583239321849\n"
     ]
    }
   ],
   "source": [
    "corr_array = []\n",
    "for i in range(combined_means.shape[1]):\n",
    "    for j in range(i+1, combined_means.shape[1]):\n",
    "        corr, _ = pearsonr(combined_means[:, i], combined_means[:, j])\n",
    "        corr_array.append((i, j, corr))\n",
    "\n",
    "# Sort correlations by absolute value\n",
    "corr_array = sorted(corr_array, key=lambda x: abs(x[2]), reverse=True)\n",
    "\n",
    "# Print top 10 correlations\n",
    "for i in range(10):\n",
    "    idx1, idx2, corr = corr_array[i]\n",
    "    print(f\"Features {idx1} and {idx2} have correlation {corr}\")"
   ]
  },
  {
   "cell_type": "code",
   "execution_count": 10,
   "id": "b869d151-867b-4e05-94b9-0369f2182d9d",
   "metadata": {},
   "outputs": [
    {
     "ename": "NameError",
     "evalue": "name 'feature_names' is not defined",
     "output_type": "error",
     "traceback": [
      "\u001b[1;31m---------------------------------------------------------------------------\u001b[0m",
      "\u001b[1;31mNameError\u001b[0m                                 Traceback (most recent call last)",
      "\u001b[1;32m~\\AppData\\Local\\Temp/ipykernel_11360/970165882.py\u001b[0m in \u001b[0;36m<module>\u001b[1;34m\u001b[0m\n\u001b[0;32m      1\u001b[0m \u001b[1;31m# Create a dictionary to map feature indices to feature names\u001b[0m\u001b[1;33m\u001b[0m\u001b[1;33m\u001b[0m\u001b[0m\n\u001b[1;32m----> 2\u001b[1;33m \u001b[0mfeature_dict\u001b[0m \u001b[1;33m=\u001b[0m \u001b[1;33m{\u001b[0m\u001b[0mi\u001b[0m\u001b[1;33m:\u001b[0m \u001b[0mfeature_names\u001b[0m\u001b[1;33m[\u001b[0m\u001b[0mi\u001b[0m\u001b[1;33m]\u001b[0m \u001b[1;32mfor\u001b[0m \u001b[0mi\u001b[0m \u001b[1;32min\u001b[0m \u001b[0mrange\u001b[0m\u001b[1;33m(\u001b[0m\u001b[0mlen\u001b[0m\u001b[1;33m(\u001b[0m\u001b[0mfeature_names\u001b[0m\u001b[1;33m)\u001b[0m\u001b[1;33m)\u001b[0m\u001b[1;33m}\u001b[0m\u001b[1;33m\u001b[0m\u001b[1;33m\u001b[0m\u001b[0m\n\u001b[0m\u001b[0;32m      3\u001b[0m \u001b[1;33m\u001b[0m\u001b[0m\n\u001b[0;32m      4\u001b[0m \u001b[1;31m# Create a figure with multiple subplots\u001b[0m\u001b[1;33m\u001b[0m\u001b[1;33m\u001b[0m\u001b[0m\n\u001b[0;32m      5\u001b[0m \u001b[0mfig\u001b[0m\u001b[1;33m,\u001b[0m \u001b[0maxes\u001b[0m \u001b[1;33m=\u001b[0m \u001b[0mplt\u001b[0m\u001b[1;33m.\u001b[0m\u001b[0msubplots\u001b[0m\u001b[1;33m(\u001b[0m\u001b[1;36m5\u001b[0m\u001b[1;33m,\u001b[0m \u001b[1;36m2\u001b[0m\u001b[1;33m,\u001b[0m \u001b[0mfigsize\u001b[0m\u001b[1;33m=\u001b[0m\u001b[1;33m(\u001b[0m\u001b[1;36m15\u001b[0m\u001b[1;33m,\u001b[0m \u001b[1;36m20\u001b[0m\u001b[1;33m)\u001b[0m\u001b[1;33m)\u001b[0m  \u001b[1;31m# 5 rows, 2 columns of subplots\u001b[0m\u001b[1;33m\u001b[0m\u001b[1;33m\u001b[0m\u001b[0m\n",
      "\u001b[1;31mNameError\u001b[0m: name 'feature_names' is not defined"
     ]
    }
   ],
   "source": [
    "# Create a dictionary to map feature indices to feature names\n",
    "feature_dict = {i: feature_names[i] for i in range(len(feature_names))}\n",
    "\n",
    "# Create a figure with multiple subplots\n",
    "fig, axes = plt.subplots(5, 2, figsize=(15, 20))  # 5 rows, 2 columns of subplots\n",
    "fig.tight_layout(pad=5)  # Add padding between subplots\n",
    "\n",
    "# Plot the results and print out feature names\n",
    "for i in range(20):\n",
    "    idx1, idx2, corr = corr_array[i]\n",
    "    feature_name1 = feature_dict[idx1]\n",
    "    feature_name2 = feature_dict[idx2]\n",
    "    row = i // 2  # Row index of the subplot\n",
    "    col = i % 2  # Column index of the subplot\n",
    "    axes[row, col].scatter(combined_means[:, idx1], combined_means[:, idx2], label=f'Correlation: {corr:.4f}')\n",
    "    axes[row, col].set_xlabel(feature_name1)\n",
    "    axes[row, col].set_ylabel(feature_name2)\n",
    "    axes[row, col].set_title(f'Features {feature_name1} and {feature_name2} Correlation Scatter Plot')\n",
    "    axes[row, col].legend()\n",
    "    print(f\"Features {idx1} ({feature1}) and {idx2} ({feature2}) have correlation {corr}\")\n",
    "plt.show"
   ]
  },
  {
   "cell_type": "code",
   "execution_count": null,
   "id": "ba4292d2-eca2-4de5-86ff-b41ac89fc40f",
   "metadata": {},
   "outputs": [],
   "source": []
  }
 ],
 "metadata": {
  "kernelspec": {
   "display_name": "Python 3 (ipykernel)",
   "language": "python",
   "name": "python3"
  },
  "language_info": {
   "codemirror_mode": {
    "name": "ipython",
    "version": 3
   },
   "file_extension": ".py",
   "mimetype": "text/x-python",
   "name": "python",
   "nbconvert_exporter": "python",
   "pygments_lexer": "ipython3",
   "version": "3.9.7"
  }
 },
 "nbformat": 4,
 "nbformat_minor": 5
}
