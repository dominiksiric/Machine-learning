{
 "cells": [
  {
   "cell_type": "code",
   "execution_count": 2,
   "id": "adbfa65f-bfdf-49a0-ab1c-d2e38ed57f79",
   "metadata": {},
   "outputs": [],
   "source": [
    "from sklearn.metrics import *\n",
    "import matplotlib.pyplot as plt\n",
    "import seaborn as sns\n",
    "import os\n",
    "import glob\n",
    "import numpy as np\n",
    "import warnings"
   ]
  },
  {
   "cell_type": "code",
   "execution_count": 8,
   "id": "d4bcb5da-dbfb-4c27-994d-c3b1472ee843",
   "metadata": {},
   "outputs": [
    {
     "name": "stdout",
     "output_type": "stream",
     "text": [
      "[[1.6678293e-01 7.9440288e-02 4.9095706e+02 ... 3.2615812e+00\n",
      "  3.1755190e+00 1.3717393e+00]\n",
      " [2.4142019e-01 2.6629858e-02 4.6741357e+02 ... 2.3783600e+00\n",
      "  1.9217482e+00 2.0721755e+00]\n",
      " [2.6450893e-01 2.3550166e-02 5.1184506e+02 ... 3.0581174e+00\n",
      "  1.7401990e+00 1.9776495e+00]\n",
      " ...\n",
      " [3.2463726e-01 4.7174446e-02 4.7790024e+03 ... 4.0433292e+00\n",
      "  2.3245735e+00 2.4929183e+00]\n",
      " [1.4118303e-01 7.1851298e-02 5.7130255e+02 ... 3.1507854e+00\n",
      "  1.8259456e+00 8.8204002e-01]\n",
      " [1.2723215e-01 9.2595160e-02 5.8492908e+02 ... 4.5093136e+00\n",
      "  4.0177093e+00 1.4633849e+00]]\n",
      "100\n",
      "(100, 548)\n"
     ]
    }
   ],
   "source": [
    "# calculating kappa scores for each species call to see if and how much the annotators agree for the labels\n",
    "res = []\n",
    "test = np.load(\"comcuc\\\\133067.npy\")\n",
    "print(test)\n",
    "print(len(test))\n",
    "print(test.shape)"
   ]
  },
  {
   "cell_type": "code",
   "execution_count": 3,
   "id": "515af2ad-8aeb-4c61-a131-3b2f5c785fa1",
   "metadata": {},
   "outputs": [
    {
     "name": "stdout",
     "output_type": "stream",
     "text": [
      "[0.6767411831390685]\n"
     ]
    }
   ],
   "source": [
    "warnings.filterwarnings(\"error\")\n",
    "first = \"comcuc\"\n",
    "arrs = glob.glob(os.path.join(first, '*.labels.npy'))\n",
    "of_all = []\n",
    "for arr in arrs:\n",
    "    sc_kappa = []\n",
    "    dt = np.load(arr)\n",
    "    true_l = dt[:, 1:]\n",
    "    for i in range(true_l.shape[1]):\n",
    "        for j in range(i+1, true_l.shape[1]):\n",
    "            try:\n",
    "                kappa = cohen_kappa_score(true_l[:, i], true_l[:, j])\n",
    "                sc_kappa.append(kappa)\n",
    "            except Warning as e:\n",
    "                if \"invalid value encountered in true_divide\" in str(e):\n",
    "                    sc_kappa.append(0)\n",
    "                else:\n",
    "                    raise e\n",
    "    of_all.append(np.mean(sc_kappa))\n",
    "res.append(np.mean(of_all))\n",
    "print(res)"
   ]
  },
  {
   "cell_type": "code",
   "execution_count": 4,
   "id": "e356ebba-26f3-461f-9d60-5cd8c8d780b7",
   "metadata": {},
   "outputs": [
    {
     "name": "stdout",
     "output_type": "stream",
     "text": [
      "[0.6767411831390685, 0.6350458413995096]\n"
     ]
    }
   ],
   "source": [
    "warnings.filterwarnings(\"error\")\n",
    "first = \"cowpig1\"\n",
    "arrs = glob.glob(os.path.join(first, '*.labels.npy'))\n",
    "of_all = []\n",
    "for arr in arrs:\n",
    "    sc_kappa = []\n",
    "    dt = np.load(arr)\n",
    "    true_l = dt[:, 1:]\n",
    "    for i in range(true_l.shape[1]):\n",
    "        for j in range(i+1, true_l.shape[1]):\n",
    "            try:\n",
    "                kappa = cohen_kappa_score(true_l[:, i], true_l[:, j])\n",
    "                sc_kappa.append(kappa)\n",
    "            except Warning as e:\n",
    "                if \"invalid value encountered in true_divide\" in str(e):\n",
    "                    sc_kappa.append(0)\n",
    "                else:\n",
    "                    raise e\n",
    "    of_all.append(np.mean(sc_kappa))\n",
    "res.append(np.mean(of_all))\n",
    "print(res)"
   ]
  },
  {
   "cell_type": "code",
   "execution_count": 5,
   "id": "d25fcae2-87a4-4d7a-9f14-54ef384871b7",
   "metadata": {},
   "outputs": [
    {
     "name": "stdout",
     "output_type": "stream",
     "text": [
      "[0.6767411831390685, 0.6350458413995096, 0.6451794671413394]\n"
     ]
    }
   ],
   "source": [
    "warnings.filterwarnings(\"error\")\n",
    "first = \"eucdov\"\n",
    "arrs = glob.glob(os.path.join(first, '*.labels.npy'))\n",
    "of_all = []\n",
    "for arr in arrs:\n",
    "    sc_kappa = []\n",
    "    dt = np.load(arr)\n",
    "    true_l = dt[:, 1:]\n",
    "    for i in range(true_l.shape[1]):\n",
    "        for j in range(i+1, true_l.shape[1]):\n",
    "            try:\n",
    "                kappa = cohen_kappa_score(true_l[:, i], true_l[:, j])\n",
    "                sc_kappa.append(kappa)\n",
    "            except Warning as e:\n",
    "                if \"invalid value encountered in true_divide\" in str(e):\n",
    "                    sc_kappa.append(0)\n",
    "                else:\n",
    "                    raise e\n",
    "    of_all.append(np.mean(sc_kappa))\n",
    "res.append(np.mean(of_all))\n",
    "print(res)"
   ]
  },
  {
   "cell_type": "code",
   "execution_count": 6,
   "id": "6d35db8d-1559-4d68-9342-0bdbdd3f6128",
   "metadata": {},
   "outputs": [
    {
     "name": "stdout",
     "output_type": "stream",
     "text": [
      "[0.6767411831390685, 0.6350458413995096, 0.6451794671413394, 0.6863581229842185]\n"
     ]
    }
   ],
   "source": [
    "warnings.filterwarnings(\"error\")\n",
    "first = \"eueowl1\"\n",
    "arrs = glob.glob(os.path.join(first, '*.labels.npy'))\n",
    "of_all = []\n",
    "for arr in arrs:\n",
    "    sc_kappa = []\n",
    "    dt = np.load(arr)\n",
    "    true_l = dt[:, 1:]\n",
    "    for i in range(true_l.shape[1]):\n",
    "        for j in range(i+1, true_l.shape[1]):\n",
    "            try:\n",
    "                kappa = cohen_kappa_score(true_l[:, i], true_l[:, j])\n",
    "                sc_kappa.append(kappa)\n",
    "            except Warning as e:\n",
    "                if \"invalid value encountered in true_divide\" in str(e):\n",
    "                    sc_kappa.append(0)\n",
    "                else:\n",
    "                    raise e\n",
    "    of_all.append(np.mean(sc_kappa))\n",
    "res.append(np.mean(of_all))\n",
    "print(res)"
   ]
  },
  {
   "cell_type": "code",
   "execution_count": 7,
   "id": "f20f0f60-9722-44ad-8423-7bbe7c2e9b01",
   "metadata": {},
   "outputs": [
    {
     "name": "stdout",
     "output_type": "stream",
     "text": [
      "[0.6767411831390685, 0.6350458413995096, 0.6451794671413394, 0.6863581229842185, 0.5097246374677283]\n"
     ]
    }
   ],
   "source": [
    "warnings.filterwarnings(\"error\")\n",
    "first = \"grswoo\"\n",
    "arrs = glob.glob(os.path.join(first, '*.labels.npy'))\n",
    "of_all = []\n",
    "for arr in arrs:\n",
    "    sc_kappa = []\n",
    "    dt = np.load(arr)\n",
    "    true_l = dt[:, 1:]\n",
    "    for i in range(true_l.shape[1]):\n",
    "        for j in range(i+1, true_l.shape[1]):\n",
    "            try:\n",
    "                kappa = cohen_kappa_score(true_l[:, i], true_l[:, j])\n",
    "                sc_kappa.append(kappa)\n",
    "            except Warning as e:\n",
    "                if \"invalid value encountered in true_divide\" in str(e):\n",
    "                    sc_kappa.append(0)\n",
    "                else:\n",
    "                    raise e\n",
    "    of_all.append(np.mean(sc_kappa))\n",
    "res.append(np.mean(of_all))\n",
    "print(res)"
   ]
  },
  {
   "cell_type": "code",
   "execution_count": 8,
   "id": "7c972b0b-d2c0-4b4d-88e2-cf70fd4a7161",
   "metadata": {},
   "outputs": [
    {
     "name": "stdout",
     "output_type": "stream",
     "text": [
      "[0.6767411831390685, 0.6350458413995096, 0.6451794671413394, 0.6863581229842185, 0.5097246374677283, 0.6192603452168329]\n"
     ]
    }
   ],
   "source": [
    "warnings.filterwarnings(\"error\")\n",
    "first = \"tawowl1\"\n",
    "arrs = glob.glob(os.path.join(first, '*.labels.npy'))\n",
    "of_all = []\n",
    "for arr in arrs:\n",
    "    sc_kappa = []\n",
    "    dt = np.load(arr)\n",
    "    true_l = dt[:, 1:]\n",
    "    for i in range(true_l.shape[1]):\n",
    "        for j in range(i+1, true_l.shape[1]):\n",
    "            try:\n",
    "                kappa = cohen_kappa_score(true_l[:, i], true_l[:, j])\n",
    "                sc_kappa.append(kappa)\n",
    "            except Warning as e:\n",
    "                if \"invalid value encountered in true_divide\" in str(e):\n",
    "                    sc_kappa.append(0)\n",
    "                else:\n",
    "                    raise e\n",
    "    of_all.append(np.mean(sc_kappa))\n",
    "res.append(np.mean(of_all))\n",
    "print(res)"
   ]
  },
  {
   "cell_type": "code",
   "execution_count": 10,
   "id": "21feccd6-5b84-4871-a6bb-3eee130cf2bb",
   "metadata": {},
   "outputs": [],
   "source": [
    "finals = [0.6767411831390685, 0.6350458413995096, 0.6451794671413394, 0.6863581229842185, 0.5097246374677283, 0.6192603452168329]"
   ]
  },
  {
   "cell_type": "code",
   "execution_count": 19,
   "id": "7a30de1c-e8b9-47b4-b663-6a0c872c34fe",
   "metadata": {
    "tags": []
   },
   "outputs": [
    {
     "data": {
      "image/png": "[encoded data removed]",
      "text/plain": [
       "<Figure size 504x504 with 1 Axes>"
      ]
     },
     "metadata": {
      "needs_background": "light"
     },
     "output_type": "display_data"
    },
    {
     "data": {
      "image/png": "[encoded data removed]",
      "text/plain": [
       "<Figure size 504x504 with 1 Axes>"
      ]
     },
     "metadata": {
      "needs_background": "light"
     },
     "output_type": "display_data"
    },
    {
     "name": "stdout",
     "output_type": "stream",
     "text": [
      "0.6287182662247829\n"
     ]
    }
   ],
   "source": [
    "# Plotting bar chart\n",
    "plt.figure(figsize=(7,7))\n",
    "plt.bar(range(len(finals)), finals)\n",
    "plt.xticks(range(len(finals)), ['comcuc', 'cowpig1', 'eucdov', 'eueowl1', 'grswoo', 'tawowl2'])\n",
    "plt.title('Kappa Scores')\n",
    "plt.xlabel('Label')\n",
    "plt.ylabel('Kappa Scores')\n",
    "plt.show()\n",
    "\n",
    "# Plotting box plot\n",
    "plt.figure(figsize=(7,7))\n",
    "plt.boxplot(finals)\n",
    "plt.title('Kappa Scores of Files')\n",
    "plt.ylabel('Kappa Scores')\n",
    "plt.show()\n",
    "print(np.mean(finals))"
   ]
  },
  {
   "cell_type": "code",
   "execution_count": null,
   "id": "e7d23a7e-2cc9-429d-8945-1e994a67d07d",
   "metadata": {},
   "outputs": [],
   "source": []
  }
 ],
 "metadata": {
  "kernelspec": {
   "display_name": "Python 3 (ipykernel)",
   "language": "python",
   "name": "python3"
  },
  "language_info": {
   "codemirror_mode": {
    "name": "ipython",
    "version": 3
   },
   "file_extension": ".py",
   "mimetype": "text/x-python",
   "name": "python",
   "nbconvert_exporter": "python",
   "pygments_lexer": "ipython3",
   "version": "3.9.7"
  }
 },
 "nbformat": 4,
 "nbformat_minor": 5
}
