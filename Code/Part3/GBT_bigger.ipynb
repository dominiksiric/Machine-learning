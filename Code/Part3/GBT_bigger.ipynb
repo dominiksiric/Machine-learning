{
 "cells": [
  {
   "cell_type": "code",
   "execution_count": 1,
   "id": "2db12cad-a07f-4621-bf32-5c956228febc",
   "metadata": {},
   "outputs": [],
   "source": [
    "import numpy as np\n",
    "from sklearn.ensemble import GradientBoostingClassifier"
   ]
  },
  {
   "cell_type": "code",
   "execution_count": 2,
   "id": "b66d6cc2-327e-4ea7-88d6-a3ff64f6f99f",
   "metadata": {},
   "outputs": [],
   "source": [
    "species_names = ['comcuc', 'cowpig1', 'eucdov', 'eueowl1', 'grswoo', 'tawowl1']\n",
    "training_data = []\n",
    "training_labels = []\n",
    "\n",
    "for species_name in species_names:\n",
    "    labels = np.load(f'{species_name}_combined_labels.npy')\n",
    "    training_labels.append(labels)"
   ]
  },
  {
   "cell_type": "code",
   "execution_count": 3,
   "id": "f84dca1a-6a87-4f4f-b87d-f90d4a08ef91",
   "metadata": {},
   "outputs": [],
   "source": [
    "training_data = np.load('100reduced_combined_features.npy')\n",
    "training_labels = np.concatenate(training_labels)"
   ]
  },
  {
   "cell_type": "code",
   "execution_count": 6,
   "id": "41350779-9abf-4b25-b930-1f942e29320c",
   "metadata": {},
   "outputs": [],
   "source": [
    "# Define the number of samples to keep from each class\n",
    "num_samples_per_class = 10000\n",
    "\n",
    "reduced_training_data = []\n",
    "reduced_training_labels = []\n",
    "\n",
    "# Iterate over each class\n",
    "for i in range(6):\n",
    "    class_data = training_data[i * 20000: (i + 1) * 20000]\n",
    "    class_labels = training_labels[i * 20000: (i + 1) * 20000]\n",
    "\n",
    "    # Separate the rows where label value is 0 and where it isn't\n",
    "    zero_indices = np.where(class_labels == 0)[0]\n",
    "    nonzero_indices = np.where(class_labels != 0)[0]\n",
    "\n",
    "    num_zero_indices = min(num_samples_per_class // 2, len(zero_indices))\n",
    "    num_nonzero_indices = min(num_samples_per_class // 2, len(nonzero_indices))\n",
    "\n",
    "    # Randomly select equal number of samples from each group\n",
    "    random_zero_indices = np.random.choice(zero_indices, num_zero_indices, replace=False)\n",
    "    random_nonzero_indices = np.random.choice(nonzero_indices, num_nonzero_indices, replace=False)\n",
    "\n",
    "    # Combine the selected samples\n",
    "    selected_indices = np.concatenate([random_zero_indices, random_nonzero_indices])\n",
    "    reduced_class_data = class_data[selected_indices]\n",
    "    reduced_class_labels = class_labels[selected_indices]\n",
    "\n",
    "    reduced_training_data.append(reduced_class_data)\n",
    "    reduced_training_labels.append(reduced_class_labels)"
   ]
  },
  {
   "cell_type": "code",
   "execution_count": 7,
   "id": "5bdba915-d73a-403e-a8b5-c59254aa3d02",
   "metadata": {},
   "outputs": [],
   "source": [
    "reduced_training_data = np.concatenate(reduced_training_data)\n",
    "reduced_training_labels = np.concatenate(reduced_training_labels)"
   ]
  },
  {
   "cell_type": "code",
   "execution_count": 10,
   "id": "f46d1b4f-e8c7-4013-a222-441c66b1818d",
   "metadata": {},
   "outputs": [],
   "source": [
    "np.random.seed(42)  # Set a seed for reproducibility\n",
    "shuffle_indices = np.random.permutation(len(reduced_training_data))\n",
    "reduced_training_data = reduced_training_data[shuffle_indices]\n",
    "reduced_training_labels = reduced_training_labels[shuffle_indices]"
   ]
  },
  {
   "cell_type": "code",
   "execution_count": 11,
   "id": "92fd6a68-0a90-489f-bc3d-295030971183",
   "metadata": {},
   "outputs": [],
   "source": [
    "gbc = GradientBoostingClassifier()"
   ]
  },
  {
   "cell_type": "code",
   "execution_count": 12,
   "id": "53e5131b-9a34-469d-9fb0-6160e097fdff",
   "metadata": {},
   "outputs": [
    {
     "data": {
      "text/plain": [
       "GradientBoostingClassifier()"
      ]
     },
     "execution_count": 12,
     "metadata": {},
     "output_type": "execute_result"
    }
   ],
   "source": [
    "gbc.fit(reduced_training_data, reduced_training_labels)"
   ]
  },
  {
   "cell_type": "code",
   "execution_count": 18,
   "id": "838c26a0-20bf-43be-8a70-fcbf8e554df9",
   "metadata": {},
   "outputs": [],
   "source": [
    "# Load and preprocess the test data (if applicable)\n",
    "test_data = np.load('100reduced_test_features.npy')"
   ]
  },
  {
   "cell_type": "code",
   "execution_count": 20,
   "id": "764ee670-5bdb-4306-9b45-a327433c480b",
   "metadata": {},
   "outputs": [],
   "source": [
    "test_predictions = gbc.predict(test_data)"
   ]
  },
  {
   "cell_type": "code",
   "execution_count": 21,
   "id": "68e13dae-2701-4b64-8d9f-d0b0bb665dfb",
   "metadata": {},
   "outputs": [],
   "source": [
    "import csv"
   ]
  },
  {
   "cell_type": "code",
   "execution_count": 22,
   "id": "65c69034-6bcf-413a-af06-72f56fd1bda3",
   "metadata": {},
   "outputs": [
    {
     "name": "stdout",
     "output_type": "stream",
     "text": [
      "Predictions saved to predictions.csv\n"
     ]
    }
   ],
   "source": [
    "# Number of values per row and total number of rows\n",
    "values_per_row = 3000\n",
    "num_rows = len(test_predictions) // values_per_row\n",
    "\n",
    "# Create a list of rows with file names and values\n",
    "rows = []\n",
    "for i in range(num_rows):\n",
    "    start_index = i * values_per_row\n",
    "    end_index = (i + 1) * values_per_row\n",
    "    file_name = f\"test{i:02d}\"\n",
    "    row_values = [str(value) for value in test_predictions[start_index:end_index]]\n",
    "    row = [file_name] + row_values\n",
    "    rows.append(row)\n",
    "\n",
    "# Write the rows to a CSV file\n",
    "csv_file = \"predictions_gbt_bigger.csv\"\n",
    "with open(csv_file, mode='w', newline='') as file:\n",
    "    writer = csv.writer(file)\n",
    "    writer.writerows(rows)\n",
    "\n",
    "print(\"Predictions saved to predictions.csv\")"
   ]
  },
  {
   "cell_type": "code",
   "execution_count": 23,
   "id": "62c2fbac-7d54-4230-a8ad-33c132873e4b",
   "metadata": {},
   "outputs": [
    {
     "name": "stdout",
     "output_type": "stream",
     "text": [
      "2178\n"
     ]
    }
   ],
   "source": [
    "def count_six(lst):\n",
    "    count = 0\n",
    "    for num in lst:\n",
    "        if num == 6:\n",
    "            count += 1\n",
    "    return count\n",
    "print(count_six(test_predictions))"
   ]
  },
  {
   "cell_type": "code",
   "execution_count": null,
   "id": "56faf87a-ab81-4393-ac71-3320ed37050a",
   "metadata": {},
   "outputs": [],
   "source": []
  }
 ],
 "metadata": {
  "kernelspec": {
   "display_name": "Python 3 (ipykernel)",
   "language": "python",
   "name": "python3"
  },
  "language_info": {
   "codemirror_mode": {
    "name": "ipython",
    "version": 3
   },
   "file_extension": ".py",
   "mimetype": "text/x-python",
   "name": "python",
   "nbconvert_exporter": "python",
   "pygments_lexer": "ipython3",
   "version": "3.9.7"
  }
 },
 "nbformat": 4,
 "nbformat_minor": 5
}
