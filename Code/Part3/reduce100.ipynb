{
 "cells": [
  {
   "cell_type": "code",
   "execution_count": 92,
   "id": "01dc1e80-049f-491b-8986-bbac4b09955f",
   "metadata": {},
   "outputs": [],
   "source": [
    "import numpy as np\n",
    "from sklearn.decomposition import PCA\n",
    "from sklearn.preprocessing import MinMaxScaler"
   ]
  },
  {
   "cell_type": "code",
   "execution_count": 93,
   "id": "6c8e00a7-5996-4288-880d-57a05938c0e4",
   "metadata": {},
   "outputs": [],
   "source": [
    "# Load training feature arrays\n",
    "feature_files = ['comcuc.npy', 'cowpig1.npy', 'eucdov.npy', 'eueowl1.npy', 'grswoo.npy', 'tawowl1.npy']\n",
    "\n",
    "train_features = []\n",
    "\n",
    "for feature_file in feature_files:\n",
    "    feature_array = np.load(feature_file)\n",
    "    train_features.append(feature_array)\n"
   ]
  },
  {
   "cell_type": "code",
   "execution_count": 94,
   "id": "02e072ff-6b2e-42f7-864c-3d2ec92299a9",
   "metadata": {},
   "outputs": [],
   "source": [
    "# Load test feature arrays\n",
    "test_features = []\n",
    "for i in range(16):\n",
    "    test_file = f\"test{i:02d}.npy\"\n",
    "    test_array = np.load(test_file)\n",
    "    test_features.append(test_array)"
   ]
  },
  {
   "cell_type": "code",
   "execution_count": 95,
   "id": "50682353-c324-4e9c-914f-322c226e44e3",
   "metadata": {},
   "outputs": [],
   "source": [
    "# Combine training features into a single array\n",
    "combined_train_features = np.concatenate(train_features, axis=0)"
   ]
  },
  {
   "cell_type": "code",
   "execution_count": 97,
   "id": "b9e35493-d0e1-4f59-8c81-1ea07526d396",
   "metadata": {},
   "outputs": [],
   "source": [
    "# Normalize the combined training features\n",
    "scaler = MinMaxScaler()\n",
    "normalized_combined_train_features = scaler.fit_transform(combined_train_features)"
   ]
  },
  {
   "cell_type": "code",
   "execution_count": 98,
   "id": "7f6f1051-05ce-4477-ade7-810dff876962",
   "metadata": {},
   "outputs": [],
   "source": [
    "# Apply PCA with n_components=50 on the normalized training features\n",
    "pca = PCA(n_components=100)\n",
    "reduced_combined_train_features = pca.fit_transform(normalized_combined_train_features)"
   ]
  },
  {
   "cell_type": "code",
   "execution_count": 100,
   "id": "4c335797-9cea-44b1-986e-93596409751e",
   "metadata": {},
   "outputs": [],
   "source": [
    "# Transform and normalize test features individually\n",
    "reduced_test_features = []\n",
    "for test_array in test_features:\n",
    "    normalized_test_array = scaler.transform(test_array)\n",
    "    reduced_test_array = pca.transform(normalized_test_array)\n",
    "    reduced_test_features.append(reduced_test_array)"
   ]
  },
  {
   "cell_type": "code",
   "execution_count": 101,
   "id": "7e67761f-bd69-46a7-9435-5c2be253b807",
   "metadata": {},
   "outputs": [],
   "source": [
    "np.save(\"100reduced_combined_features.npy\", reduced_combined_train_features)"
   ]
  },
  {
   "cell_type": "code",
   "execution_count": 102,
   "id": "0dd35ac2-e1bf-45c5-a38e-b85c63e5e482",
   "metadata": {},
   "outputs": [],
   "source": [
    "# Save the reduced test features in one array\n",
    "reduced_test_features_combined = np.concatenate(reduced_test_features, axis=0)\n",
    "np.save(\"100reduced_test_features.npy\", reduced_test_features_combined)"
   ]
  },
  {
   "cell_type": "code",
   "execution_count": 105,
   "id": "51ec902e-92d6-4e3f-9de9-ab1b89cbe845",
   "metadata": {},
   "outputs": [
    {
     "name": "stdout",
     "output_type": "stream",
     "text": [
      "(48000, 100)\n"
     ]
    }
   ],
   "source": [
    "print(np.load(\"100reduced_test_features.npy\").shape)"
   ]
  },
  {
   "cell_type": "code",
   "execution_count": null,
   "id": "76323657-31de-48bf-a565-def905afef95",
   "metadata": {},
   "outputs": [],
   "source": []
  }
 ],
 "metadata": {
  "kernelspec": {
   "display_name": "Python 3 (ipykernel)",
   "language": "python",
   "name": "python3"
  },
  "language_info": {
   "codemirror_mode": {
    "name": "ipython",
    "version": 3
   },
   "file_extension": ".py",
   "mimetype": "text/x-python",
   "name": "python",
   "nbconvert_exporter": "python",
   "pygments_lexer": "ipython3",
   "version": "3.9.7"
  }
 },
 "nbformat": 4,
 "nbformat_minor": 5
}
