{
 "cells": [
  {
   "cell_type": "code",
   "execution_count": 17,
   "id": "a88810f4-ee8b-49d9-95f3-ebd2cebb0d15",
   "metadata": {},
   "outputs": [],
   "source": [
    "import numpy as np\n",
    "from sklearn.ensemble import GradientBoostingClassifier"
   ]
  },
  {
   "cell_type": "code",
   "execution_count": 18,
   "id": "f011598c-6d3c-4379-8fe5-18d05e3fa949",
   "metadata": {},
   "outputs": [],
   "source": [
    "species_names = ['comcuc', 'cowpig1', 'eucdov', 'eueowl1', 'grswoo', 'tawowl1']\n",
    "training_data = []\n",
    "training_labels = []\n",
    "\n",
    "for species_name in species_names:\n",
    "    labels = np.load(f'{species_name}_combined_labels.npy')\n",
    "    training_labels.append(labels)"
   ]
  },
  {
   "cell_type": "code",
   "execution_count": 19,
   "id": "22cd50bb-cfd5-4ef4-bf79-77e804e5edfa",
   "metadata": {},
   "outputs": [],
   "source": [
    "training_data = np.load('100reduced_combined_features.npy')\n",
    "training_labels = np.concatenate(training_labels)"
   ]
  },
  {
   "cell_type": "code",
   "execution_count": 21,
   "id": "e32834ea-c46b-491a-9c9d-d9c6257230af",
   "metadata": {},
   "outputs": [],
   "source": [
    "reduced_training_data = training_data\n",
    "reduced_training_labels = training_labels"
   ]
  },
  {
   "cell_type": "code",
   "execution_count": 23,
   "id": "bbd2ccad-8e20-4e61-94ce-c8f042eb6b9e",
   "metadata": {},
   "outputs": [],
   "source": [
    "np.random.seed(42)  # Set a seed for reproducibility\n",
    "shuffle_indices = np.random.permutation(len(reduced_training_data))\n",
    "reduced_training_data = reduced_training_data[shuffle_indices]\n",
    "reduced_training_labels = reduced_training_labels[shuffle_indices]"
   ]
  },
  {
   "cell_type": "code",
   "execution_count": 24,
   "id": "a3dd41ed-88de-4208-bc61-ac57948f59c9",
   "metadata": {},
   "outputs": [],
   "source": [
    "gbc = GradientBoostingClassifier()"
   ]
  },
  {
   "cell_type": "code",
   "execution_count": 25,
   "id": "d081397c-be34-4a07-b320-87b435bef555",
   "metadata": {},
   "outputs": [
    {
     "data": {
      "text/plain": [
       "GradientBoostingClassifier()"
      ]
     },
     "execution_count": 25,
     "metadata": {},
     "output_type": "execute_result"
    }
   ],
   "source": [
    "gbc.fit(reduced_training_data, reduced_training_labels)"
   ]
  },
  {
   "cell_type": "code",
   "execution_count": 26,
   "id": "edcfb92f-c5c4-443d-ae79-9ec0a54f0371",
   "metadata": {},
   "outputs": [],
   "source": [
    "# Load and preprocess the test data (if applicable)\n",
    "test_data = np.load('100reduced_test_features.npy')"
   ]
  },
  {
   "cell_type": "code",
   "execution_count": 28,
   "id": "174d25e8-6513-4ff9-b442-761afd970a31",
   "metadata": {},
   "outputs": [],
   "source": [
    "test_predictions = gbc.predict(test_data)"
   ]
  },
  {
   "cell_type": "code",
   "execution_count": 29,
   "id": "4ae1687c-b7ce-4409-9785-5ca2cf092128",
   "metadata": {},
   "outputs": [],
   "source": [
    "import csv"
   ]
  },
  {
   "cell_type": "code",
   "execution_count": 30,
   "id": "64b70c3c-2188-41e7-a209-44dee77375f4",
   "metadata": {},
   "outputs": [
    {
     "name": "stdout",
     "output_type": "stream",
     "text": [
      "Predictions saved to predictions.csv\n"
     ]
    }
   ],
   "source": [
    "# Number of values per row and total number of rows\n",
    "values_per_row = 3000\n",
    "num_rows = len(test_predictions) // values_per_row\n",
    "\n",
    "# Create a list of rows with file names and values\n",
    "rows = []\n",
    "for i in range(num_rows):\n",
    "    start_index = i * values_per_row\n",
    "    end_index = (i + 1) * values_per_row\n",
    "    file_name = f\"test{i:02d}\"\n",
    "    row_values = [str(value) for value in test_predictions[start_index:end_index]]\n",
    "    row = [file_name] + row_values\n",
    "    rows.append(row)\n",
    "\n",
    "# Write the rows to a CSV file\n",
    "csv_file = \"predictions_gbt_bigger_better.csv\"\n",
    "with open(csv_file, mode='w', newline='') as file:\n",
    "    writer = csv.writer(file)\n",
    "    writer.writerows(rows)\n",
    "\n",
    "print(\"Predictions saved to predictions.csv\")"
   ]
  },
  {
   "cell_type": "code",
   "execution_count": 31,
   "id": "792f3d92-f851-4c9e-827f-c791b1e20e05",
   "metadata": {},
   "outputs": [
    {
     "name": "stdout",
     "output_type": "stream",
     "text": [
      "1693\n"
     ]
    }
   ],
   "source": [
    "def count_six(lst):\n",
    "    count = 0\n",
    "    for num in lst:\n",
    "        if num == 6:\n",
    "            count += 1\n",
    "    return count\n",
    "print(count_six(test_predictions))"
   ]
  },
  {
   "cell_type": "code",
   "execution_count": null,
   "id": "d1e72337-6eef-459e-beb6-761ea6712dd4",
   "metadata": {},
   "outputs": [],
   "source": []
  }
 ],
 "metadata": {
  "kernelspec": {
   "display_name": "Python 3 (ipykernel)",
   "language": "python",
   "name": "python3"
  },
  "language_info": {
   "codemirror_mode": {
    "name": "ipython",
    "version": 3
   },
   "file_extension": ".py",
   "mimetype": "text/x-python",
   "name": "python",
   "nbconvert_exporter": "python",
   "pygments_lexer": "ipython3",
   "version": "3.9.7"
  }
 },
 "nbformat": 4,
 "nbformat_minor": 5
}
