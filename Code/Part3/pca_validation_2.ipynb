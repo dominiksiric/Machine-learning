{
 "cells": [
  {
   "cell_type": "code",
   "execution_count": 17,
   "id": "e22f7e07-e22e-48d7-8c9f-26f73ef048d2",
   "metadata": {},
   "outputs": [],
   "source": [
    "import numpy as np\n",
    "from sklearn.svm import SVC"
   ]
  },
  {
   "cell_type": "code",
   "execution_count": 18,
   "id": "2d34037a-dbc4-443b-8194-4655808ae79d",
   "metadata": {},
   "outputs": [],
   "source": [
    "species_names = ['comcuc', 'cowpig1', 'eucdov', 'eueowl1', 'grswoo', 'tawowl1']\n",
    "training_data = []\n",
    "training_labels = []\n",
    "\n",
    "for species_name in species_names:\n",
    "    labels = np.load(f'{species_name}_combined_labels.npy')\n",
    "    training_labels.append(labels)"
   ]
  },
  {
   "cell_type": "code",
   "execution_count": 19,
   "id": "4ef44b0d-5071-49ab-b44b-2e92a2a7d874",
   "metadata": {},
   "outputs": [],
   "source": [
    "training_data = np.load('2reduced_combined_features.npy')\n",
    "training_labels = np.concatenate(training_labels)"
   ]
  },
  {
   "cell_type": "code",
   "execution_count": 23,
   "id": "799e2e92-f05f-485b-964a-b3084e629375",
   "metadata": {},
   "outputs": [],
   "source": [
    "# Define the number of samples to keep from each class\n",
    "num_samples_per_class = 5000\n",
    "\n",
    "reduced_training_data = []\n",
    "reduced_training_labels = []\n",
    "\n",
    "# Iterate over each class\n",
    "for i in range(6):\n",
    "    class_data = training_data[i * 20000: (i + 1) * 20000]\n",
    "    class_labels = training_labels[i * 20000: (i + 1) * 20000]\n",
    "\n",
    "    # Separate the rows where label value is 0 and where it isn't\n",
    "    zero_indices = np.where(class_labels == 0)[0]\n",
    "    nonzero_indices = np.where(class_labels != 0)[0]\n",
    "\n",
    "    num_zero_indices = min(num_samples_per_class // 2, len(zero_indices))\n",
    "    num_nonzero_indices = min(num_samples_per_class // 2, len(nonzero_indices))\n",
    "\n",
    "    # Randomly select equal number of samples from each group\n",
    "    random_zero_indices = np.random.choice(zero_indices, num_zero_indices, replace=False)\n",
    "    random_nonzero_indices = np.random.choice(nonzero_indices, num_nonzero_indices, replace=False)\n",
    "\n",
    "    # Combine the selected samples\n",
    "    selected_indices = np.concatenate([random_zero_indices, random_nonzero_indices])\n",
    "    reduced_class_data = class_data[selected_indices]\n",
    "    reduced_class_labels = class_labels[selected_indices]\n",
    "\n",
    "    reduced_training_data.append(reduced_class_data)\n",
    "    reduced_training_labels.append(reduced_class_labels)"
   ]
  },
  {
   "cell_type": "code",
   "execution_count": 25,
   "id": "c6c793cc-faf3-447c-94da-0f5371dffa47",
   "metadata": {},
   "outputs": [],
   "source": [
    "reduced_training_data = np.concatenate(reduced_training_data)\n",
    "reduced_training_labels = np.concatenate(reduced_training_labels)\n"
   ]
  },
  {
   "cell_type": "code",
   "execution_count": 28,
   "id": "119e3c39-fb51-4006-8848-fc30cdfa723c",
   "metadata": {},
   "outputs": [],
   "source": [
    "np.random.seed(42)  # Set a seed for reproducibility\n",
    "shuffle_indices = np.random.permutation(len(reduced_training_data))\n",
    "reduced_training_data = reduced_training_data[shuffle_indices]\n",
    "reduced_training_labels = reduced_training_labels[shuffle_indices]"
   ]
  },
  {
   "cell_type": "code",
   "execution_count": 29,
   "id": "bdfbfa18-12d1-48c8-93cc-20c6a661619b",
   "metadata": {},
   "outputs": [],
   "source": [
    "# Set the best parameters obtained from previous iterations\n",
    "best_params = {'C': 10, 'coef0': 0.0, 'degree': 2, 'gamma': 1, 'kernel': 'rbf'}\n"
   ]
  },
  {
   "cell_type": "code",
   "execution_count": 32,
   "id": "1d3ea291-cd78-45b3-b35a-6dde607486fc",
   "metadata": {},
   "outputs": [],
   "source": [
    "# Create an SVM model with the best parameters\n",
    "svm = SVC(**best_params)\n"
   ]
  },
  {
   "cell_type": "code",
   "execution_count": 33,
   "id": "2ff0a8ef-0602-4dc5-87f9-97f202df29d7",
   "metadata": {},
   "outputs": [
    {
     "data": {
      "text/plain": [
       "SVC(C=10, degree=2, gamma=1)"
      ]
     },
     "execution_count": 33,
     "metadata": {},
     "output_type": "execute_result"
    }
   ],
   "source": [
    "# Fit the SVM model with the reduced training data and labels\n",
    "svm.fit(reduced_training_data, reduced_training_labels)\n"
   ]
  },
  {
   "cell_type": "code",
   "execution_count": 34,
   "id": "399860ba-0ab7-41b3-af50-b5092c629994",
   "metadata": {},
   "outputs": [],
   "source": [
    "# Load and preprocess the test data (if applicable)\n",
    "test_data = np.load('2reduced_test_features.npy')"
   ]
  },
  {
   "cell_type": "code",
   "execution_count": 36,
   "id": "0763605a-467b-4e24-84d6-5c116f1a3e00",
   "metadata": {},
   "outputs": [],
   "source": [
    "# Make predictions on the test data using the trained model\n",
    "test_predictions = svm.predict(test_data)\n"
   ]
  },
  {
   "cell_type": "code",
   "execution_count": 37,
   "id": "c75b2e22-41b8-4b6c-994d-a7e5f076f169",
   "metadata": {},
   "outputs": [],
   "source": [
    "import csv"
   ]
  },
  {
   "cell_type": "code",
   "execution_count": 38,
   "id": "a95291f0-1da2-4285-90d0-a6daac6b3787",
   "metadata": {},
   "outputs": [
    {
     "name": "stdout",
     "output_type": "stream",
     "text": [
      "Predictions saved to predictions.csv\n"
     ]
    }
   ],
   "source": [
    "# Number of values per row and total number of rows\n",
    "values_per_row = 3000\n",
    "num_rows = len(test_predictions) // values_per_row\n",
    "\n",
    "# Create a list of rows with file names and values\n",
    "rows = []\n",
    "for i in range(num_rows):\n",
    "    start_index = i * values_per_row\n",
    "    end_index = (i + 1) * values_per_row\n",
    "    file_name = f\"test{i:02d}\"\n",
    "    row_values = [str(value) for value in test_predictions[start_index:end_index]]\n",
    "    row = [file_name] + row_values\n",
    "    rows.append(row)\n",
    "\n",
    "# Write the rows to a CSV file\n",
    "csv_file = \"predictions_with_eval.csv\"\n",
    "with open(csv_file, mode='w', newline='') as file:\n",
    "    writer = csv.writer(file)\n",
    "    writer.writerows(rows)\n",
    "\n",
    "print(\"Predictions saved to predictions.csv\")"
   ]
  },
  {
   "cell_type": "code",
   "execution_count": 39,
   "id": "ca93bcb8-4d1a-4422-bb2d-355c120cccbc",
   "metadata": {},
   "outputs": [
    {
     "name": "stdout",
     "output_type": "stream",
     "text": [
      "2191\n"
     ]
    }
   ],
   "source": [
    "def count_six(lst):\n",
    "    count = 0\n",
    "    for num in lst:\n",
    "        if num == 6:\n",
    "            count += 1\n",
    "    return count\n",
    "print(count_six(test_predictions))"
   ]
  },
  {
   "cell_type": "code",
   "execution_count": null,
   "id": "9d21f8bf-d96a-49eb-ad08-6e51df7baccd",
   "metadata": {},
   "outputs": [],
   "source": []
  }
 ],
 "metadata": {
  "kernelspec": {
   "display_name": "Python 3 (ipykernel)",
   "language": "python",
   "name": "python3"
  },
  "language_info": {
   "codemirror_mode": {
    "name": "ipython",
    "version": 3
   },
   "file_extension": ".py",
   "mimetype": "text/x-python",
   "name": "python",
   "nbconvert_exporter": "python",
   "pygments_lexer": "ipython3",
   "version": "3.9.7"
  }
 },
 "nbformat": 4,
 "nbformat_minor": 5
}
