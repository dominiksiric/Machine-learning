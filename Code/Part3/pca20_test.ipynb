{
 "cells": [
  {
   "cell_type": "code",
   "execution_count": 1,
   "id": "6c2c9ec0-536d-4d24-9624-fad9ee9db579",
   "metadata": {},
   "outputs": [],
   "source": [
    "import numpy as np\n",
    "import pandas as pd\n",
    "from sklearn.svm import SVC\n",
    "from sklearn.model_selection import cross_val_predict"
   ]
  },
  {
   "cell_type": "code",
   "execution_count": 2,
   "id": "a165b607-a83a-4a34-b306-549dd463d1e0",
   "metadata": {},
   "outputs": [],
   "source": [
    "species_names = ['comcuc', 'cowpig1', 'eucdov', 'eueowl1', 'grswoo', 'tawowl1']\n",
    "training_data = []\n",
    "training_labels = []\n",
    "\n",
    "for species_name in species_names:\n",
    "    #data = np.load(f'kpcareduced_{species_name}.npy')\n",
    "    labels = np.load(f'{species_name}_combined_labels.npy')\n",
    "    #training_data.append(data)\n",
    "    training_labels.append(labels)\n",
    "\n",
    "training_data = np.load('2reduced_combined_features.npy')\n",
    "training_labels = np.concatenate(training_labels)"
   ]
  },
  {
   "cell_type": "code",
   "execution_count": 3,
   "id": "07dd4c98-2954-45c0-8535-8d7a22755a74",
   "metadata": {},
   "outputs": [
    {
     "name": "stdout",
     "output_type": "stream",
     "text": [
      "(120000, 20)\n"
     ]
    }
   ],
   "source": [
    "print(training_data.shape)"
   ]
  },
  {
   "cell_type": "code",
   "execution_count": 6,
   "id": "8c0cbe95-a9d0-4644-9b71-10bfa769bb48",
   "metadata": {},
   "outputs": [],
   "source": [
    "np.random.seed(42)  # Set a seed for reproducibility\n",
    "shuffle_indices = np.random.permutation(len(training_data))\n",
    "training_data = training_data[shuffle_indices]\n",
    "training_labels = training_labels[shuffle_indices]"
   ]
  },
  {
   "cell_type": "code",
   "execution_count": 7,
   "id": "59429e94-b4c1-4f3d-92ac-ff357d30d48e",
   "metadata": {},
   "outputs": [],
   "source": [
    "svm = SVC()"
   ]
  },
  {
   "cell_type": "code",
   "execution_count": 8,
   "id": "f4126c39-b0a2-4c7a-a0c7-14fa313b4cd8",
   "metadata": {},
   "outputs": [],
   "source": [
    "predictions = cross_val_predict(svm, training_data, training_labels, cv=5)"
   ]
  },
  {
   "cell_type": "code",
   "execution_count": 10,
   "id": "d40c4059-dc3e-4a8a-996a-e43a53ab8441",
   "metadata": {},
   "outputs": [],
   "source": [
    "test_data = np.load('2reduced_test_features.npy')"
   ]
  },
  {
   "cell_type": "code",
   "execution_count": 11,
   "id": "7842d3ef-70c6-4259-b503-96266ae7418d",
   "metadata": {},
   "outputs": [
    {
     "data": {
      "text/plain": [
       "SVC()"
      ]
     },
     "execution_count": 11,
     "metadata": {},
     "output_type": "execute_result"
    }
   ],
   "source": [
    "svm.fit(training_data, training_labels)"
   ]
  },
  {
   "cell_type": "code",
   "execution_count": 12,
   "id": "096ca3ea-58b1-452a-8ede-5dffab77d86a",
   "metadata": {},
   "outputs": [],
   "source": [
    "test_predictions = svm.predict(test_data)"
   ]
  },
  {
   "cell_type": "code",
   "execution_count": 14,
   "id": "faf255a3-8ccb-4aa1-ae62-f4c10a9a0b4c",
   "metadata": {},
   "outputs": [],
   "source": [
    "import csv"
   ]
  },
  {
   "cell_type": "code",
   "execution_count": 16,
   "id": "cda2d457-6d25-43f8-a2eb-fd7267233a9e",
   "metadata": {},
   "outputs": [
    {
     "name": "stdout",
     "output_type": "stream",
     "text": [
      "CSV file created successfully!\n"
     ]
    }
   ],
   "source": [
    "# Number of values per row and total number of rows\n",
    "values_per_row = 3000\n",
    "num_rows = 16\n",
    "\n",
    "# Create a list of rows with file names and values\n",
    "rows = []\n",
    "for i in range(num_rows):\n",
    "    start_index = i * values_per_row\n",
    "    end_index = (i + 1) * values_per_row\n",
    "    file_name = f\"test{i:02d}\"\n",
    "    row_values = [str(value) for value in test_predictions[start_index:end_index]]\n",
    "    row = [file_name] + row_values\n",
    "    rows.append(row)\n",
    "\n",
    "# Write the rows to a CSV file\n",
    "csv_file = \"predictions4.csv\"\n",
    "with open(csv_file, mode=\"w\", newline=\"\") as file:\n",
    "    writer = csv.writer(file)\n",
    "    writer.writerows(rows)\n",
    "\n",
    "print(\"CSV file created successfully!\")"
   ]
  },
  {
   "cell_type": "code",
   "execution_count": 32,
   "id": "3cf339fa-bf62-45ed-a62b-6647c4dee5d0",
   "metadata": {},
   "outputs": [
    {
     "name": "stdout",
     "output_type": "stream",
     "text": [
      "1597\n"
     ]
    }
   ],
   "source": [
    "def count_six(lst):\n",
    "    count = 0\n",
    "    for num in lst:\n",
    "        if num == 6:\n",
    "            count += 1\n",
    "    return count\n",
    "print(count_six(test_predictions))"
   ]
  },
  {
   "cell_type": "code",
   "execution_count": null,
   "id": "b1699efd-4ae8-4752-ae9f-86ce234dc48d",
   "metadata": {},
   "outputs": [],
   "source": []
  }
 ],
 "metadata": {
  "kernelspec": {
   "display_name": "Python 3 (ipykernel)",
   "language": "python",
   "name": "python3"
  },
  "language_info": {
   "codemirror_mode": {
    "name": "ipython",
    "version": 3
   },
   "file_extension": ".py",
   "mimetype": "text/x-python",
   "name": "python",
   "nbconvert_exporter": "python",
   "pygments_lexer": "ipython3",
   "version": "3.9.7"
  }
 },
 "nbformat": 4,
 "nbformat_minor": 5
}
