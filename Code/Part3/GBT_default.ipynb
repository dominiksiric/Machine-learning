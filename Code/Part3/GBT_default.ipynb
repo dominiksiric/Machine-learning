{
 "cells": [
  {
   "cell_type": "code",
   "execution_count": 2,
   "id": "be7a6983-5cc3-4928-998b-74bbbe90fc40",
   "metadata": {},
   "outputs": [],
   "source": [
    "import numpy as np\n",
    "from sklearn.ensemble import GradientBoostingClassifier"
   ]
  },
  {
   "cell_type": "code",
   "execution_count": 3,
   "id": "b902a19f-78c9-4a5c-bcaf-741a31d0868b",
   "metadata": {},
   "outputs": [],
   "source": [
    "species_names = ['comcuc', 'cowpig1', 'eucdov', 'eueowl1', 'grswoo', 'tawowl1']\n",
    "training_data = []\n",
    "training_labels = []\n",
    "\n",
    "for species_name in species_names:\n",
    "    labels = np.load(f'{species_name}_combined_labels.npy')\n",
    "    training_labels.append(labels)"
   ]
  },
  {
   "cell_type": "code",
   "execution_count": 4,
   "id": "0f351173-7375-4d29-a114-dd904dd08d24",
   "metadata": {},
   "outputs": [],
   "source": [
    "training_data = np.load('2reduced_combined_features.npy')\n",
    "training_labels = np.concatenate(training_labels)"
   ]
  },
  {
   "cell_type": "code",
   "execution_count": 5,
   "id": "19744a7e-1274-491f-b344-82a088598d0b",
   "metadata": {},
   "outputs": [],
   "source": [
    "# Define the number of samples to keep from each class\n",
    "num_samples_per_class = 5000\n",
    "\n",
    "reduced_training_data = []\n",
    "reduced_training_labels = []\n",
    "\n",
    "# Iterate over each class\n",
    "for i in range(6):\n",
    "    class_data = training_data[i * 20000: (i + 1) * 20000]\n",
    "    class_labels = training_labels[i * 20000: (i + 1) * 20000]\n",
    "\n",
    "    # Separate the rows where label value is 0 and where it isn't\n",
    "    zero_indices = np.where(class_labels == 0)[0]\n",
    "    nonzero_indices = np.where(class_labels != 0)[0]\n",
    "\n",
    "    num_zero_indices = min(num_samples_per_class // 2, len(zero_indices))\n",
    "    num_nonzero_indices = min(num_samples_per_class // 2, len(nonzero_indices))\n",
    "\n",
    "    # Randomly select equal number of samples from each group\n",
    "    random_zero_indices = np.random.choice(zero_indices, num_zero_indices, replace=False)\n",
    "    random_nonzero_indices = np.random.choice(nonzero_indices, num_nonzero_indices, replace=False)\n",
    "\n",
    "    # Combine the selected samples\n",
    "    selected_indices = np.concatenate([random_zero_indices, random_nonzero_indices])\n",
    "    reduced_class_data = class_data[selected_indices]\n",
    "    reduced_class_labels = class_labels[selected_indices]\n",
    "\n",
    "    reduced_training_data.append(reduced_class_data)\n",
    "    reduced_training_labels.append(reduced_class_labels)"
   ]
  },
  {
   "cell_type": "code",
   "execution_count": 6,
   "id": "0c405b82-1a5f-40a9-9f32-864e45f6f9ca",
   "metadata": {},
   "outputs": [],
   "source": [
    "reduced_training_data = np.concatenate(reduced_training_data)\n",
    "reduced_training_labels = np.concatenate(reduced_training_labels)"
   ]
  },
  {
   "cell_type": "code",
   "execution_count": 7,
   "id": "d654eb0e-babf-4132-818e-445596d9e88b",
   "metadata": {},
   "outputs": [],
   "source": [
    "np.random.seed(42)  # Set a seed for reproducibility\n",
    "shuffle_indices = np.random.permutation(len(reduced_training_data))\n",
    "reduced_training_data = reduced_training_data[shuffle_indices]\n",
    "reduced_training_labels = reduced_training_labels[shuffle_indices]"
   ]
  },
  {
   "cell_type": "code",
   "execution_count": 8,
   "id": "06800e16-6880-4d5e-b7b1-9e36a7a7bec2",
   "metadata": {},
   "outputs": [],
   "source": [
    "gbc = GradientBoostingClassifier()"
   ]
  },
  {
   "cell_type": "code",
   "execution_count": 9,
   "id": "5fd73459-c120-4cba-acdf-bc2f9c6e538c",
   "metadata": {},
   "outputs": [
    {
     "data": {
      "text/plain": [
       "GradientBoostingClassifier()"
      ]
     },
     "execution_count": 9,
     "metadata": {},
     "output_type": "execute_result"
    }
   ],
   "source": [
    "gbc.fit(reduced_training_data, reduced_training_labels)"
   ]
  },
  {
   "cell_type": "code",
   "execution_count": 10,
   "id": "447fe12e-838e-4d99-aaf9-1ebda0e7604d",
   "metadata": {},
   "outputs": [],
   "source": [
    "# Load and preprocess the test data (if applicable)\n",
    "test_data = np.load('2reduced_test_features.npy')"
   ]
  },
  {
   "cell_type": "code",
   "execution_count": 11,
   "id": "85f34981-7119-45a4-a4fc-15005d3ed07e",
   "metadata": {},
   "outputs": [],
   "source": [
    "test_predictions = gbc.predict(test_data)"
   ]
  },
  {
   "cell_type": "code",
   "execution_count": 12,
   "id": "5f5e0e78-d324-4ecd-8cca-0d6119c734c7",
   "metadata": {},
   "outputs": [],
   "source": [
    "import csv"
   ]
  },
  {
   "cell_type": "code",
   "execution_count": 14,
   "id": "effcae83-d189-4305-a8dd-18db7faaed17",
   "metadata": {},
   "outputs": [
    {
     "name": "stdout",
     "output_type": "stream",
     "text": [
      "Predictions saved to predictions.csv\n"
     ]
    }
   ],
   "source": [
    "# Number of values per row and total number of rows\n",
    "values_per_row = 3000\n",
    "num_rows = len(test_predictions) // values_per_row\n",
    "\n",
    "# Create a list of rows with file names and values\n",
    "rows = []\n",
    "for i in range(num_rows):\n",
    "    start_index = i * values_per_row\n",
    "    end_index = (i + 1) * values_per_row\n",
    "    file_name = f\"test{i:02d}\"\n",
    "    row_values = [str(value) for value in test_predictions[start_index:end_index]]\n",
    "    row = [file_name] + row_values\n",
    "    rows.append(row)\n",
    "\n",
    "# Write the rows to a CSV file\n",
    "csv_file = \"predictions_gbt_default.csv\"\n",
    "with open(csv_file, mode='w', newline='') as file:\n",
    "    writer = csv.writer(file)\n",
    "    writer.writerows(rows)\n",
    "\n",
    "print(\"Predictions saved to predictions.csv\")"
   ]
  },
  {
   "cell_type": "code",
   "execution_count": 15,
   "id": "6a5791e9-1425-4027-900e-2f6ba69f0738",
   "metadata": {},
   "outputs": [
    {
     "name": "stdout",
     "output_type": "stream",
     "text": [
      "2294\n"
     ]
    }
   ],
   "source": [
    "def count_six(lst):\n",
    "    count = 0\n",
    "    for num in lst:\n",
    "        if num == 6:\n",
    "            count += 1\n",
    "    return count\n",
    "print(count_six(test_predictions))"
   ]
  },
  {
   "cell_type": "code",
   "execution_count": null,
   "id": "152a34da-1900-4343-bf30-99c9466f4437",
   "metadata": {},
   "outputs": [],
   "source": []
  }
 ],
 "metadata": {
  "kernelspec": {
   "display_name": "Python 3 (ipykernel)",
   "language": "python",
   "name": "python3"
  },
  "language_info": {
   "codemirror_mode": {
    "name": "ipython",
    "version": 3
   },
   "file_extension": ".py",
   "mimetype": "text/x-python",
   "name": "python",
   "nbconvert_exporter": "python",
   "pygments_lexer": "ipython3",
   "version": "3.9.7"
  }
 },
 "nbformat": 4,
 "nbformat_minor": 5
}
