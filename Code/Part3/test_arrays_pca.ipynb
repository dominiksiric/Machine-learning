{
 "cells": [
  {
   "cell_type": "code",
   "execution_count": 13,
   "id": "602381ba-be09-41cb-84d2-b446696a49eb",
   "metadata": {},
   "outputs": [],
   "source": [
    "import numpy as np\n",
    "from sklearn.decomposition import PCA\n",
    "from sklearn.preprocessing import StandardScaler"
   ]
  },
  {
   "cell_type": "code",
   "execution_count": 14,
   "id": "073f3f0a-d93f-4448-9d03-5025486edb60",
   "metadata": {},
   "outputs": [],
   "source": [
    "# List to store the reduced arrays\n",
    "reduced_arrays = []\n",
    "\n",
    "# Load the first array to get its shape\n",
    "first_array = np.load(\"test00.npy\")\n",
    "\n",
    "# Create an empty array to store all the data\n",
    "combined_data = np.empty((0, first_array.shape[1]))\n"
   ]
  },
  {
   "cell_type": "code",
   "execution_count": 15,
   "id": "f85fd42c-6450-471c-bb73-2c6c26c1b67b",
   "metadata": {},
   "outputs": [],
   "source": [
    "# Concatenate all arrays vertically\n",
    "for i in range(16):\n",
    "    array = np.load(f\"test{i:02d}.npy\")\n",
    "    combined_data = np.vstack((combined_data, array))"
   ]
  },
  {
   "cell_type": "code",
   "execution_count": 17,
   "id": "2c00b7f8-42b0-4de2-b5dd-f944f9f8feb7",
   "metadata": {},
   "outputs": [],
   "source": [
    "# Standardize the data\n",
    "scaler = StandardScaler()\n",
    "standardized_data = scaler.fit_transform(combined_data)"
   ]
  },
  {
   "cell_type": "code",
   "execution_count": 18,
   "id": "c85e5479-2a35-4505-8daf-ff76a156cab8",
   "metadata": {},
   "outputs": [],
   "source": [
    "# Perform PCA on the standardized data\n",
    "pca = PCA(n_components=254)\n",
    "reduced_data = pca.fit_transform(standardized_data)\n"
   ]
  },
  {
   "cell_type": "code",
   "execution_count": 19,
   "id": "d23943b1-b360-4f44-ab21-f273ae58f2b5",
   "metadata": {},
   "outputs": [],
   "source": [
    "# Split the reduced data back into individual arrays\n",
    "start_idx = 0\n",
    "for i in range(16):\n",
    "    array = reduced_data[start_idx: start_idx + len(np.load(f\"test{i:02d}.npy\"))]\n",
    "    reduced_arrays.append(array)\n",
    "    start_idx += len(array)\n",
    "    # Save the reduced array with the corresponding filename\n",
    "    np.save(f\"reduced_test{i:02d}.npy\", array)\n",
    "\n",
    "# reduced_arrays will contain the reduced arrays with 254 features, and each array is saved with the respective filename"
   ]
  },
  {
   "cell_type": "code",
   "execution_count": 22,
   "id": "dfa935ce-31d4-43ee-9daf-314effd858ce",
   "metadata": {},
   "outputs": [
    {
     "name": "stdout",
     "output_type": "stream",
     "text": [
      "(3000, 254)\n"
     ]
    }
   ],
   "source": [
    "print(np.load(\"reduced_test04.npy\").shape)"
   ]
  },
  {
   "cell_type": "code",
   "execution_count": null,
   "id": "437a6f0d-e29f-4154-90cd-136c84bb8ba4",
   "metadata": {},
   "outputs": [],
   "source": []
  }
 ],
 "metadata": {
  "kernelspec": {
   "display_name": "Python 3 (ipykernel)",
   "language": "python",
   "name": "python3"
  },
  "language_info": {
   "codemirror_mode": {
    "name": "ipython",
    "version": 3
   },
   "file_extension": ".py",
   "mimetype": "text/x-python",
   "name": "python",
   "nbconvert_exporter": "python",
   "pygments_lexer": "ipython3",
   "version": "3.9.7"
  }
 },
 "nbformat": 4,
 "nbformat_minor": 5
}
