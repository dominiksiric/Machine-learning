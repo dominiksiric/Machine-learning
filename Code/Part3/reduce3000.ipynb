{
 "cells": [
  {
   "cell_type": "code",
   "execution_count": 18,
   "id": "9ee33452-f255-43c2-94ed-fa431cfaad4b",
   "metadata": {},
   "outputs": [],
   "source": [
    "import numpy as np\n",
    "from sklearn.decomposition import KernelPCA\n",
    "from sklearn.preprocessing import StandardScaler\n"
   ]
  },
  {
   "cell_type": "code",
   "execution_count": 19,
   "id": "781a75bb-f4d3-420c-a8ad-cb0fd20f865a",
   "metadata": {},
   "outputs": [],
   "source": [
    "# Load training feature arrays\n",
    "feature_files = ['comcuc.npy', 'cowpig1.npy', 'eucdov.npy', 'eueowl1.npy', 'grswoo.npy', 'tawowl1.npy']\n",
    "label_files = ['comcuc_combined_labels.npy', 'cowpig1_combined_labels.npy', 'eucdov_combined_labels.npy',\n",
    "               'eueowl1_combined_labels.npy', 'grswoo_combined_labels.npy', 'tawowl1_combined_labels.npy']\n",
    "\n"
   ]
  },
  {
   "cell_type": "code",
   "execution_count": 20,
   "id": "c59706ac-2925-460b-a22f-379a6e24b2da",
   "metadata": {},
   "outputs": [],
   "source": [
    "train_features = []\n",
    "train_labels = []\n",
    "\n",
    "for feature_file, label_file in zip(feature_files, label_files):\n",
    "    feature_array = np.load(feature_file)\n",
    "    label_array = np.load(label_file)\n",
    "    train_features.append(feature_array)\n",
    "    train_labels.append(label_array)"
   ]
  },
  {
   "cell_type": "code",
   "execution_count": 21,
   "id": "c44ab90a-95aa-4a58-9d72-035d09253f13",
   "metadata": {},
   "outputs": [],
   "source": [
    "# Load test feature arrays\n",
    "test_features = []\n",
    "for i in range(16):\n",
    "    test_file = f\"test{i:02d}.npy\"\n",
    "    test_array = np.load(test_file)\n",
    "    test_features.append(test_array)\n"
   ]
  },
  {
   "cell_type": "code",
   "execution_count": 22,
   "id": "b19c6f9a-5547-4979-aa15-dff336ebc330",
   "metadata": {},
   "outputs": [],
   "source": [
    "## Standardize the data\n",
    "scaler = StandardScaler()\n",
    "scaled_train_features = [scaler.fit_transform(feature_array) for feature_array in train_features]\n",
    "scaled_test_features = [scaler.transform(feature_array) for feature_array in test_features]"
   ]
  },
  {
   "cell_type": "code",
   "execution_count": 23,
   "id": "6322720a-8ef3-4378-be0e-5403e7a73242",
   "metadata": {},
   "outputs": [],
   "source": [
    "# Apply Kernel PCA with n_components=50\n",
    "kpca = KernelPCA(n_components=50, kernel='rbf')"
   ]
  },
  {
   "cell_type": "code",
   "execution_count": null,
   "id": "e0bf1266-6d0f-4c07-9b4f-1f39fe3e79a6",
   "metadata": {},
   "outputs": [],
   "source": [
    "# Fit and transform training features\n",
    "reduced_train_features = [kpca.fit_transform(feature_array) for feature_array in scaled_train_features]"
   ]
  },
  {
   "cell_type": "code",
   "execution_count": null,
   "id": "c0f4f518-fc31-4ff5-b92e-730f56c95951",
   "metadata": {},
   "outputs": [],
   "source": []
  }
 ],
 "metadata": {
  "kernelspec": {
   "display_name": "Python 3 (ipykernel)",
   "language": "python",
   "name": "python3"
  },
  "language_info": {
   "codemirror_mode": {
    "name": "ipython",
    "version": 3
   },
   "file_extension": ".py",
   "mimetype": "text/x-python",
   "name": "python",
   "nbconvert_exporter": "python",
   "pygments_lexer": "ipython3",
   "version": "3.9.7"
  }
 },
 "nbformat": 4,
 "nbformat_minor": 5
}
