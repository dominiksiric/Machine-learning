{
 "cells": [
  {
   "cell_type": "code",
   "execution_count": 1,
   "id": "2f25c268-e0d1-4617-a968-5273572d88a9",
   "metadata": {},
   "outputs": [],
   "source": [
    "import numpy as np\n",
    "from sklearn.decomposition import PCA\n",
    "from sklearn.preprocessing import MinMaxScaler"
   ]
  },
  {
   "cell_type": "code",
   "execution_count": 2,
   "id": "18d9c322-78b8-4ca6-8450-5fcbb05839af",
   "metadata": {},
   "outputs": [],
   "source": [
    "# Load training feature arrays\n",
    "feature_files = ['comcuc.npy', 'cowpig1.npy', 'eucdov.npy', 'eueowl1.npy', 'grswoo.npy', 'tawowl1.npy']\n",
    "\n",
    "train_features = []\n",
    "\n",
    "for feature_file in feature_files:\n",
    "    feature_array = np.load(feature_file)\n",
    "    train_features.append(feature_array)\n"
   ]
  },
  {
   "cell_type": "code",
   "execution_count": 3,
   "id": "a6a11121-3665-4b6a-90ba-0d9c204cb187",
   "metadata": {},
   "outputs": [],
   "source": [
    "# Load test feature arrays\n",
    "test_features = []\n",
    "for i in range(16):\n",
    "    test_file = f\"test{i:02d}.npy\"\n",
    "    test_array = np.load(test_file)\n",
    "    test_features.append(test_array)"
   ]
  },
  {
   "cell_type": "code",
   "execution_count": 4,
   "id": "6c7b0092-67f6-41b6-99d8-88b00d728c75",
   "metadata": {},
   "outputs": [],
   "source": [
    "# Combine training features into a single array\n",
    "combined_train_features = np.concatenate(train_features, axis=0)"
   ]
  },
  {
   "cell_type": "code",
   "execution_count": 5,
   "id": "7d4631b5-cbf2-46d8-a3e7-fbc21cf4ab08",
   "metadata": {},
   "outputs": [],
   "source": [
    "# Normalize the combined training features\n",
    "scaler = MinMaxScaler()\n",
    "normalized_combined_train_features = scaler.fit_transform(combined_train_features)"
   ]
  },
  {
   "cell_type": "code",
   "execution_count": 6,
   "id": "1f22252a-2e86-4255-8276-607e70bc8d33",
   "metadata": {},
   "outputs": [],
   "source": [
    "# Apply PCA with n_components=50 on the normalized training features\n",
    "pca = PCA(n_components=20)\n",
    "reduced_combined_train_features = pca.fit_transform(normalized_combined_train_features)"
   ]
  },
  {
   "cell_type": "code",
   "execution_count": 7,
   "id": "50289f34-c106-4e2b-aca1-1b6c1c50d268",
   "metadata": {},
   "outputs": [],
   "source": [
    "# Transform and normalize test features individually\n",
    "reduced_test_features = []\n",
    "for test_array in test_features:\n",
    "    normalized_test_array = scaler.transform(test_array)\n",
    "    reduced_test_array = pca.transform(normalized_test_array)\n",
    "    reduced_test_features.append(reduced_test_array)"
   ]
  },
  {
   "cell_type": "code",
   "execution_count": 8,
   "id": "f8558ab7-8dd5-4dfc-a670-11516bedb199",
   "metadata": {},
   "outputs": [],
   "source": [
    "np.save(\"2reduced_combined_features.npy\", reduced_combined_train_features)"
   ]
  },
  {
   "cell_type": "code",
   "execution_count": 11,
   "id": "3a8e9530-126a-4ecf-9891-2130d6232514",
   "metadata": {},
   "outputs": [],
   "source": [
    "# Save the reduced test features in one array\n",
    "reduced_test_features_combined = np.concatenate(reduced_test_features, axis=0)\n",
    "np.save(\"2reduced_test_features.npy\", reduced_test_features_combined)"
   ]
  },
  {
   "cell_type": "code",
   "execution_count": 14,
   "id": "810a452c-6bc6-470a-9381-771306933e06",
   "metadata": {},
   "outputs": [
    {
     "name": "stdout",
     "output_type": "stream",
     "text": [
      "(48000, 20)\n"
     ]
    }
   ],
   "source": [
    "print(np.load(\"2reduced_test_features.npy\").shape)"
   ]
  },
  {
   "cell_type": "code",
   "execution_count": null,
   "id": "f3788587-ba78-4b71-a94d-f1af24637149",
   "metadata": {},
   "outputs": [],
   "source": []
  }
 ],
 "metadata": {
  "kernelspec": {
   "display_name": "Python 3 (ipykernel)",
   "language": "python",
   "name": "python3"
  },
  "language_info": {
   "codemirror_mode": {
    "name": "ipython",
    "version": 3
   },
   "file_extension": ".py",
   "mimetype": "text/x-python",
   "name": "python",
   "nbconvert_exporter": "python",
   "pygments_lexer": "ipython3",
   "version": "3.9.7"
  }
 },
 "nbformat": 4,
 "nbformat_minor": 5
}
