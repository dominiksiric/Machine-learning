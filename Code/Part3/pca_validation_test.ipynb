{
 "cells": [
  {
   "cell_type": "code",
   "execution_count": 13,
   "id": "d5527e79-539f-46b6-bab1-212295a5c176",
   "metadata": {},
   "outputs": [],
   "source": [
    "import numpy as np\n",
    "import pandas as pd\n",
    "from sklearn.svm import SVC\n",
    "from sklearn.model_selection import train_test_split, RandomizedSearchCV\n",
    "from sklearn.metrics import accuracy_score\n"
   ]
  },
  {
   "cell_type": "code",
   "execution_count": 14,
   "id": "e00a4908-e126-4e9f-8a10-1e67f67a16d4",
   "metadata": {},
   "outputs": [],
   "source": [
    "species_names = ['comcuc', 'cowpig1', 'eucdov', 'eueowl1', 'grswoo', 'tawowl1']\n",
    "training_data = []\n",
    "training_labels = []\n",
    "\n",
    "for species_name in species_names:\n",
    "    labels = np.load(f'{species_name}_combined_labels.npy')\n",
    "    training_labels.append(labels)"
   ]
  },
  {
   "cell_type": "code",
   "execution_count": 15,
   "id": "4a075203-a4dc-4ba5-a4b0-0eb66b1ba9aa",
   "metadata": {},
   "outputs": [],
   "source": [
    "training_data = np.load('2reduced_combined_features.npy')\n",
    "training_labels = np.concatenate(training_labels)"
   ]
  },
  {
   "cell_type": "code",
   "execution_count": 16,
   "id": "06b26ffb-c256-4f8b-859e-76086f1664bd",
   "metadata": {},
   "outputs": [],
   "source": [
    "# Define the number of samples to keep from each class\n",
    "num_samples_per_class = 2000\n",
    "\n",
    "reduced_training_data = []\n",
    "reduced_training_labels = []\n",
    "\n",
    "# Iterate over each class\n",
    "for i in range(6):\n",
    "    class_data = training_data[i * 20000 : (i + 1) * 20000]\n",
    "    class_labels = training_labels[i * 20000 : (i + 1) * 20000]\n",
    "\n",
    "    # Randomly select num_samples_per_class samples from each class\n",
    "    random_indices = np.random.choice(20000, num_samples_per_class, replace=False)\n",
    "    reduced_class_data = class_data[random_indices]\n",
    "    reduced_class_labels = class_labels[random_indices]\n",
    "\n",
    "    reduced_training_data.append(reduced_class_data)\n",
    "    reduced_training_labels.append(reduced_class_labels)\n"
   ]
  },
  {
   "cell_type": "code",
   "execution_count": 17,
   "id": "f8f6131c-f652-416f-82f2-13e31f6b4e97",
   "metadata": {},
   "outputs": [],
   "source": [
    "reduced_training_data = np.concatenate(reduced_training_data)\n",
    "reduced_training_labels = np.concatenate(reduced_training_labels)"
   ]
  },
  {
   "cell_type": "code",
   "execution_count": 20,
   "id": "33ff0ccf-eac7-4dc3-bfc5-a9f6c349a6c1",
   "metadata": {},
   "outputs": [],
   "source": [
    "np.random.seed(42)  # Set a seed for reproducibility\n",
    "shuffle_indices = np.random.permutation(len(reduced_training_data))\n",
    "reduced_training_data = reduced_training_data[shuffle_indices]\n",
    "reduced_training_labels = reduced_training_labels[shuffle_indices]\n"
   ]
  },
  {
   "cell_type": "code",
   "execution_count": 23,
   "id": "d240c8a2-8739-42c6-b979-8eb09cb33a3b",
   "metadata": {},
   "outputs": [],
   "source": [
    "# Split the reduced training data into training and validation sets\n",
    "X_train, X_val, y_train, y_val = train_test_split(\n",
    "    reduced_training_data, reduced_training_labels, test_size=0.2, random_state=42\n",
    ")\n"
   ]
  },
  {
   "cell_type": "code",
   "execution_count": 24,
   "id": "2f3dfd13-4f2b-48d5-becb-8f1962225eb8",
   "metadata": {},
   "outputs": [],
   "source": [
    "# Perform a randomized search to find the best parameters\n",
    "param_dist = {\n",
    "    'C': [0.1, 1, 10],\n",
    "    'gamma': [0.1, 1, 10],\n",
    "    'kernel': ['linear', 'rbf']\n",
    "}"
   ]
  },
  {
   "cell_type": "code",
   "execution_count": 25,
   "id": "52f7e3bc-5af1-4dcb-a54a-415f1a8554b4",
   "metadata": {},
   "outputs": [],
   "source": [
    "svm = SVC()"
   ]
  },
  {
   "cell_type": "code",
   "execution_count": 26,
   "id": "f534b751-6729-4384-b601-e1e31220ebd7",
   "metadata": {},
   "outputs": [],
   "source": [
    "random_search = RandomizedSearchCV(svm, param_dist, n_iter=10, cv=5)"
   ]
  },
  {
   "cell_type": "code",
   "execution_count": 27,
   "id": "df5bc080-7ce5-46fb-8a42-78585be9aea0",
   "metadata": {},
   "outputs": [
    {
     "data": {
      "text/plain": [
       "RandomizedSearchCV(cv=5, estimator=SVC(),\n",
       "                   param_distributions={'C': [0.1, 1, 10],\n",
       "                                        'gamma': [0.1, 1, 10],\n",
       "                                        'kernel': ['linear', 'rbf']})"
      ]
     },
     "execution_count": 27,
     "metadata": {},
     "output_type": "execute_result"
    }
   ],
   "source": [
    "random_search.fit(X_train, y_train)"
   ]
  },
  {
   "cell_type": "code",
   "execution_count": 28,
   "id": "f301a205-2c21-4702-baee-c21e787b0904",
   "metadata": {},
   "outputs": [
    {
     "name": "stdout",
     "output_type": "stream",
     "text": [
      "Best Parameters: {'kernel': 'rbf', 'gamma': 0.1, 'C': 10}\n",
      "Best Score: 0.8658333333333333\n"
     ]
    }
   ],
   "source": [
    "# Get the best parameters and score from the randomized search\n",
    "best_params = random_search.best_params_\n",
    "best_score = random_search.best_score_\n",
    "\n",
    "print(\"Best Parameters:\", best_params)\n",
    "print(\"Best Score:\", best_score)"
   ]
  },
  {
   "cell_type": "code",
   "execution_count": 29,
   "id": "5f7db6e0-5c32-4c0e-bb08-9ba45ec5e780",
   "metadata": {},
   "outputs": [
    {
     "data": {
      "text/plain": [
       "SVC(C=10, gamma=0.1)"
      ]
     },
     "execution_count": 29,
     "metadata": {},
     "output_type": "execute_result"
    }
   ],
   "source": [
    "# Use the best parameters to train the classifier on the combined training set\n",
    "best_svm = SVC(**best_params)\n",
    "best_svm.fit(reduced_training_data, reduced_training_labels)"
   ]
  },
  {
   "cell_type": "code",
   "execution_count": 30,
   "id": "3bf7ed0e-1dda-4025-9a16-a9e83602535e",
   "metadata": {},
   "outputs": [],
   "source": [
    "# Predict on the test set using the trained classifier\n",
    "test_data = np.load('2reduced_test_features.npy')\n",
    "test_predictions = best_svm.predict(test_data)"
   ]
  },
  {
   "cell_type": "code",
   "execution_count": 31,
   "id": "6586b098-ff32-4b43-8e10-ff75ce9c6575",
   "metadata": {},
   "outputs": [],
   "source": [
    "import csv"
   ]
  },
  {
   "cell_type": "code",
   "execution_count": 32,
   "id": "34541066-8880-46d4-86a5-d6fa19b42cd8",
   "metadata": {},
   "outputs": [
    {
     "name": "stdout",
     "output_type": "stream",
     "text": [
      "CSV file created successfully!\n"
     ]
    }
   ],
   "source": [
    "# Number of values per row and total number of rows\n",
    "values_per_row = 3000\n",
    "num_rows = 16\n",
    "\n",
    "# Create a list of rows with file names and values\n",
    "rows = []\n",
    "for i in range(num_rows):\n",
    "    start_index = i * values_per_row\n",
    "    end_index = (i + 1) * values_per_row\n",
    "    file_name = f\"test{i:02d}\"\n",
    "    row_values = [str(value) for value in test_predictions[start_index:end_index]]\n",
    "    row = [file_name] + row_values\n",
    "    rows.append(row)\n",
    "\n",
    "# Write the rows to a CSV file\n",
    "csv_file = \"predictions5_eval2000.csv\"\n",
    "with open(csv_file, mode=\"w\", newline=\"\") as file:\n",
    "    writer = csv.writer(file)\n",
    "    writer.writerows(rows)\n",
    "\n",
    "print(\"CSV file created successfully!\")"
   ]
  },
  {
   "cell_type": "code",
   "execution_count": 33,
   "id": "053b112b-49b9-4b1c-9e0c-51c80bf69b20",
   "metadata": {},
   "outputs": [
    {
     "name": "stdout",
     "output_type": "stream",
     "text": [
      "1691\n"
     ]
    }
   ],
   "source": [
    "def count_six(lst):\n",
    "    count = 0\n",
    "    for num in lst:\n",
    "        if num == 6:\n",
    "            count += 1\n",
    "    return count\n",
    "print(count_six(test_predictions))"
   ]
  },
  {
   "cell_type": "code",
   "execution_count": null,
   "id": "0ba32236-bfef-42e3-bff1-445c59d8fece",
   "metadata": {},
   "outputs": [],
   "source": []
  }
 ],
 "metadata": {
  "kernelspec": {
   "display_name": "Python 3 (ipykernel)",
   "language": "python",
   "name": "python3"
  },
  "language_info": {
   "codemirror_mode": {
    "name": "ipython",
    "version": 3
   },
   "file_extension": ".py",
   "mimetype": "text/x-python",
   "name": "python",
   "nbconvert_exporter": "python",
   "pygments_lexer": "ipython3",
   "version": "3.9.7"
  }
 },
 "nbformat": 4,
 "nbformat_minor": 5
}
