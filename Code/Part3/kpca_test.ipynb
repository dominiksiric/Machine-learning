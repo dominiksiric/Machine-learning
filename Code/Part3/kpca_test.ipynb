{
 "cells": [
  {
   "cell_type": "code",
   "execution_count": 8,
   "id": "8dd65e35-8ef3-4f2c-ab7c-8a0cd2e8eac6",
   "metadata": {},
   "outputs": [],
   "source": [
    "import numpy as np\n",
    "import pandas as pd\n",
    "from sklearn.svm import SVC\n",
    "from sklearn.model_selection import cross_val_predict"
   ]
  },
  {
   "cell_type": "code",
   "execution_count": 9,
   "id": "320c36bf-2ac2-41a5-8223-b5a67b70bbd4",
   "metadata": {},
   "outputs": [],
   "source": [
    "species_names = ['comcuc', 'cowpig1', 'eucdov', 'eueowl1', 'grswoo', 'tawowl1']\n",
    "training_data = []\n",
    "training_labels = []\n",
    "\n",
    "for species_name in species_names:\n",
    "    data = np.load(f'kpcareduced_{species_name}.npy')\n",
    "    labels = np.load(f'kpcareduced_{species_name}_combined_labels.npy')\n",
    "    training_data.append(data)\n",
    "    training_labels.append(labels)\n",
    "\n",
    "training_data = np.concatenate(training_data)\n",
    "training_labels = np.concatenate(training_labels)"
   ]
  },
  {
   "cell_type": "code",
   "execution_count": 10,
   "id": "c2935569-cb8a-4a65-a931-537bcc97c8d1",
   "metadata": {},
   "outputs": [],
   "source": [
    "np.random.seed(42)  # Set a seed for reproducibility\n",
    "shuffle_indices = np.random.permutation(len(training_data))\n",
    "training_data = training_data[shuffle_indices]\n",
    "training_labels = training_labels[shuffle_indices]"
   ]
  },
  {
   "cell_type": "code",
   "execution_count": 11,
   "id": "462a96ee-a2f6-460d-be4e-b50b7c65bbc4",
   "metadata": {},
   "outputs": [],
   "source": [
    "svm = SVC()"
   ]
  },
  {
   "cell_type": "code",
   "execution_count": 12,
   "id": "87e36285-f775-4621-a9ff-f73e08b1a767",
   "metadata": {},
   "outputs": [],
   "source": [
    "predictions = cross_val_predict(svm, training_data, training_labels, cv=5)"
   ]
  },
  {
   "cell_type": "code",
   "execution_count": 15,
   "id": "c427e899-8fdb-44da-9666-fe3783d35773",
   "metadata": {},
   "outputs": [],
   "source": [
    "test_files = ['kpcareduced_test{:02d}.npy'.format(i) for i in range(16)]\n",
    "test_data = [np.load(file) for file in test_files]\n",
    "test_data = np.concatenate(test_data)"
   ]
  },
  {
   "cell_type": "code",
   "execution_count": 16,
   "id": "ced3dac6-22b7-4117-8243-f7702a929502",
   "metadata": {},
   "outputs": [
    {
     "data": {
      "text/plain": [
       "SVC()"
      ]
     },
     "execution_count": 16,
     "metadata": {},
     "output_type": "execute_result"
    }
   ],
   "source": [
    "svm.fit(training_data, training_labels)"
   ]
  },
  {
   "cell_type": "code",
   "execution_count": 17,
   "id": "e3a38786-958b-4079-a08d-7fbe97eeed98",
   "metadata": {},
   "outputs": [],
   "source": [
    "test_predictions = svm.predict(test_data)"
   ]
  },
  {
   "cell_type": "code",
   "execution_count": 20,
   "id": "64c3cb35-fac4-4a20-9e10-8b72cf30102f",
   "metadata": {},
   "outputs": [],
   "source": [
    "import csv"
   ]
  },
  {
   "cell_type": "code",
   "execution_count": 21,
   "id": "67574a8c-28f0-4171-830f-63f1fbebe391",
   "metadata": {},
   "outputs": [
    {
     "name": "stdout",
     "output_type": "stream",
     "text": [
      "CSV file created successfully!\n"
     ]
    }
   ],
   "source": [
    "# Number of values per row and total number of rows\n",
    "values_per_row = 3000\n",
    "num_rows = 16\n",
    "\n",
    "# Create a list of rows with file names and values\n",
    "rows = []\n",
    "for i in range(num_rows):\n",
    "    start_index = i * values_per_row\n",
    "    end_index = (i + 1) * values_per_row\n",
    "    file_name = f\"test{i:02d}\"\n",
    "    row_values = [str(value) for value in test_predictions[start_index:end_index]]\n",
    "    row = [file_name] + row_values\n",
    "    rows.append(row)\n",
    "\n",
    "# Write the rows to a CSV file\n",
    "csv_file = \"predictions3.csv\"\n",
    "with open(csv_file, mode=\"w\", newline=\"\") as file:\n",
    "    writer = csv.writer(file)\n",
    "    writer.writerows(rows)\n",
    "\n",
    "print(\"CSV file created successfully!\")"
   ]
  },
  {
   "cell_type": "code",
   "execution_count": 32,
   "id": "4f97bcd9-b68e-443d-9ab5-12d8f014d9b9",
   "metadata": {},
   "outputs": [
    {
     "name": "stdout",
     "output_type": "stream",
     "text": [
      "120000\n"
     ]
    }
   ],
   "source": [
    "print(len(predictions))"
   ]
  },
  {
   "cell_type": "code",
   "execution_count": 33,
   "id": "3fd0389e-6b2a-48a1-bd8d-34402d9d2e28",
   "metadata": {},
   "outputs": [
    {
     "name": "stdout",
     "output_type": "stream",
     "text": [
      "4059\n"
     ]
    }
   ],
   "source": [
    "def count_six(lst):\n",
    "    count = 0\n",
    "    for num in lst:\n",
    "        if num == 6:\n",
    "            count += 1\n",
    "    return count\n",
    "print(count_six(predictions))"
   ]
  },
  {
   "cell_type": "code",
   "execution_count": null,
   "id": "6e4e2e1f-06b5-4648-a101-35da779ccbdb",
   "metadata": {},
   "outputs": [],
   "source": []
  }
 ],
 "metadata": {
  "kernelspec": {
   "display_name": "Python 3 (ipykernel)",
   "language": "python",
   "name": "python3"
  },
  "language_info": {
   "codemirror_mode": {
    "name": "ipython",
    "version": 3
   },
   "file_extension": ".py",
   "mimetype": "text/x-python",
   "name": "python",
   "nbconvert_exporter": "python",
   "pygments_lexer": "ipython3",
   "version": "3.9.7"
  }
 },
 "nbformat": 4,
 "nbformat_minor": 5
}
